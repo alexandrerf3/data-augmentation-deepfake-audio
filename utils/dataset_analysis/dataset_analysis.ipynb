{
 "cells": [
  {
   "cell_type": "code",
   "execution_count": null,
   "id": "febca441-8478-464f-9eb6-c40b964e15ca",
   "metadata": {},
   "outputs": [],
   "source": [
    "import os\n",
    "import plotly.graph_objects as go\n",
    "import plotly.io as pio\n",
    "import pandas as pd\n",
    "\n",
    "from pathlib import Path\n",
    "from librosa import get_duration\n",
    "from collections import Counter"
   ]
  },
  {
   "cell_type": "code",
   "execution_count": null,
   "id": "916abbfa-babc-4db0-ba04-762227a7ca94",
   "metadata": {},
   "outputs": [],
   "source": [
    "dataset_path = Path(\"../datasets/nptel-pure\")\n",
    "audios_folder_path = dataset_path / \"wav\"\n",
    "\n",
    "audios = os.listdir(audios_folder_path)\n",
    "\n",
    "durations = []\n",
    "for audio in audios:\n",
    "    durations.append(round(get_duration(filename=(audios_folder_path / audio))))\n",
    "    \n",
    "durations_df = pd.DataFrame.from_dict(Counter(durations), orient=\"index\").reset_index()\n",
    "durations_df = durations_df.rename(columns={\"index\": \"duration\", 0: \"count\"}).sort_values(by=[\"duration\"])\n",
    "\n",
    "fig = go.Figure(go.Bar(x=durations_df[\"duration\"], y=durations_df[\"count\"], width=0.5))\n",
    "fig.update_layout(title_text=\"Duração dos áudios do conjunto de dados Pure-Set\")\n",
    "fig.update_layout(autosize=False, width=600)\n",
    "fig.update_xaxes(title_text=\"Duração (segundos)\")\n",
    "fig.update_yaxes(title_text=\"Quantidade de áudios\")\n",
    "pio.show(fig)"
   ]
  }
 ],
 "metadata": {
  "kernelspec": {
   "display_name": "Python 3.8.10 64-bit",
   "language": "python",
   "name": "python3"
  },
  "language_info": {
   "codemirror_mode": {
    "name": "ipython",
    "version": 3
   },
   "file_extension": ".py",
   "mimetype": "text/x-python",
   "name": "python",
   "nbconvert_exporter": "python",
   "pygments_lexer": "ipython3",
   "version": "3.8.10"
  },
  "vscode": {
   "interpreter": {
    "hash": "31f2aee4e71d21fbe5cf8b01ff0e069b9275f58929596ceb00d14d90e3e16cd6"
   }
  }
 },
 "nbformat": 4,
 "nbformat_minor": 5
}
